{
 "cells": [
  {
   "cell_type": "code",
   "execution_count": 7,
   "id": "70d741ab",
   "metadata": {},
   "outputs": [],
   "source": [
    "import numpy as np\n",
    "from scipy.stats import norm"
   ]
  },
  {
   "cell_type": "code",
   "execution_count": 39,
   "id": "b2bb14e2",
   "metadata": {},
   "outputs": [],
   "source": [
    "def mlmc(N0, eps, mlmc_l, alpha_0, beta_0, gamma):\n",
    "    alpha = np.max(0, alpha_0)\n",
    "    beta = np.max(0, beta_0)\n",
    "    L = 2\n",
    "    Nl = np.zeros(3)\n",
    "    suml = np.zeros((2,3))\n",
    "    dNl = np.ones(3) * N0\n",
    "    while np.sum(dNl) > 0 :\n",
    "        for l in range(0,L):\n",
    "            if(dNl[l] > 0):\n",
    "                sums = mlmc_l(l, int(dNl[l]))\n",
    "                Nl[l] = Nl[l] + dNl[l]\n",
    "                suml[0, l] = suml[0, l] + sums[0]\n",
    "                suml[1, l] = suml[1, l] + sums[1]\n",
    "        ml = np.abs(suml[0,:]/Nl)\n",
    "        Vl = np.maximum(0, suml[1, :]/Nl - ml**2)\n",
    "        for l in range(2, L):\n",
    "            ml[l] = np.maximum(ml[l], 0.5*ml[l-1]/2^alpha)\n",
    "            Vl[l] = np.maximum(Vl[l], 0.5*Vl[l-1]/2^beta)\n",
    "        if alpha_0 <= 0:\n",
    "            # Compute alpha using a log-log linear fit\n",
    "            idx = np.arange(1, L + 1)\n",
    "            slope, intercept = np.polyfit(np.log(idx), np.log(ml[1:]), 1)\n",
    "            alpha = max(0.5, -slope)\n",
    "\n",
    "        if beta_0 <= 0:\n",
    "            # Compute beta using a log-log linear fit\n",
    "            idx = np.arange(1, L + 1)\n",
    "            slope, intercept = np.polyfit(np.log(idx), np.log(Vl[1:]), 1)\n",
    "            beta = max(0.5, -slope)\n",
    "            \n",
    "        Cl = 2**(gamma * np.arange(L + 1))\n",
    "        sum_term = np.sum(np.sqrt(Vl * Cl))\n",
    "        Ns = np.ceil(2 * np.sqrt(Vl / Cl) * sum_term / eps**2)\n",
    "        dNl = np.maximum(0, Ns - Nl)\n",
    "        \n",
    "        range_values = np.arange(-2, 1)\n",
    "        if np.sum(dNl > 0.01 * Nl) == 0:\n",
    "            rem = np.max(ml[L + 1 + range_values] * 2**(alpha * range_values)) / (2**alpha - 1)\n",
    "            if rem > eps / np.sqrt(2):\n",
    "                L += 1\n",
    "                Vl[L + 1] = Vl[L] / 2**beta\n",
    "                Nl[L + 1] = 0\n",
    "                suml[0:4, L + 1] = 0\n",
    "                Cl = 2**(gamma * np.arange(L + 1))\n",
    "                sum_term = np.sum(np.sqrt(Vl / Cl) * np.sqrt(Vl * Cl))\n",
    "                Ns = np.ceil(2 * sum_term / eps**2)\n",
    "                dNl = np.maximum(0, Ns - Nl)\n",
    "    P = np.sum(suml[0, :] / Nl)\n",
    "    return P"
   ]
  },
  {
   "cell_type": "markdown",
   "id": "3e363c98",
   "metadata": {},
   "source": [
    "# Testing Zone"
   ]
  },
  {
   "cell_type": "markdown",
   "id": "fac08092",
   "metadata": {},
   "source": [
    "### Geometric Brownian motion\n",
    "Let S be an asset with the following dynamic \\\\\n",
    "$$\n",
    "\\frac{dS_t}{S_t} = r dt + \\sigma dWt\n",
    "$$ \n",
    "with \n",
    "$$\n",
    "r = 0.05\\\\\n",
    "\\sigma = 0.2\\\\\n",
    "S_0 = 100\n",
    "$$\n",
    "Let's consider a european call option on S\n",
    "$$\n",
    "Payoff = (S_T - K)_+\\\\\n",
    "K = 100\\\\\n",
    "T = 1\\\\\n",
    "$$\n"
   ]
  },
  {
   "cell_type": "code",
   "execution_count": 40,
   "id": "2383ced9",
   "metadata": {},
   "outputs": [],
   "source": [
    "def eu_call_BS(S, T, K, r, q, sigma,t=0):\n",
    "    d1 = (np.log(S/K) + (r - q + sigma**2/2)*(T-t)) / (sigma*np.sqrt(T-t))\n",
    "    d2 = d1 - sigma* np.sqrt(T-t)\n",
    "    return S*np.exp(-q*(T-t)) * norm.cdf(d1) - K * np.exp(-r*(T-t))* norm.cdf(d2)"
   ]
  },
  {
   "cell_type": "code",
   "execution_count": 41,
   "id": "3b08c3d1",
   "metadata": {},
   "outputs": [
    {
     "name": "stdout",
     "output_type": "stream",
     "text": [
      "Theoritical Price = 10.450583572185565\n"
     ]
    }
   ],
   "source": [
    "S = 100\n",
    "T = 1\n",
    "K = 100\n",
    "r = 0.05\n",
    "q = 0\n",
    "sigma = 0.2\n",
    "th_price = eu_call_BS(S, T, K, r, q, sigma)\n",
    "print(\"Theoritical Price = %s\"%(th_price))"
   ]
  },
  {
   "cell_type": "markdown",
   "id": "7971661e",
   "metadata": {},
   "source": [
    "Now lets try to price our option with Monte Carlo Using an Euler discretization for the SDE"
   ]
  },
  {
   "cell_type": "code",
   "execution_count": null,
   "id": "0c24328e",
   "metadata": {},
   "outputs": [],
   "source": []
  },
  {
   "cell_type": "markdown",
   "id": "7373d8ac",
   "metadata": {},
   "source": [
    "Finally, let's price the option with MLMC"
   ]
  },
  {
   "cell_type": "code",
   "execution_count": 42,
   "id": "e9e0dcf4",
   "metadata": {},
   "outputs": [],
   "source": [
    "def mlmc_l(l,N):\n",
    "    S0 = 100\n",
    "    sigma = 0.2\n",
    "    r = 0.05\n",
    "    T = 1\n",
    "    K = 100\n",
    "    dt = 2**(-l)\n",
    "    sumY = 0\n",
    "    sumY2 = 0\n",
    "    for i in range(N):\n",
    "        Sf = S0\n",
    "        Sc = S0\n",
    "        dWf = np.sqrt(dt) * np.random.randn(int(T/dt))\n",
    "        for i in range(int(T/dt)):\n",
    "            Sf += r * Sf * dt + sigma * Sf * dWf[i]\n",
    "        Pf = np.max(Sf - K, 0)\n",
    "        \n",
    "        if l == 0 :\n",
    "            Pc = 0\n",
    "        else :\n",
    "            #dWc = dWf.reshape(-1, 2)\n",
    "            dWc = np.sqrt(dt) * np.random.randn(int(T/dt/2))\n",
    "            for i in range(int(T/dt/2)):\n",
    "                Sc += r * Sc * dt + sigma * Sc * dWc[i]\n",
    "            Pc = np.max(Sc - K, 0)\n",
    "        \n",
    "        Y = Pf - Pc\n",
    "        sumY += Y\n",
    "        sumY2 += Y**2\n",
    "        \n",
    "    return sumY, sumY2"
   ]
  },
  {
   "cell_type": "code",
   "execution_count": 43,
   "id": "4795d57f",
   "metadata": {},
   "outputs": [
    {
     "name": "stderr",
     "output_type": "stream",
     "text": [
      "C:\\Users\\oussama\\AppData\\Local\\Temp\\ipykernel_17464\\1224474138.py:15: RuntimeWarning: invalid value encountered in true_divide\n",
      "  ml = np.abs(suml[0,:]/Nl)\n",
      "C:\\Users\\oussama\\AppData\\Local\\Temp\\ipykernel_17464\\1224474138.py:16: RuntimeWarning: invalid value encountered in true_divide\n",
      "  Vl = np.maximum(0, suml[1, :]/Nl - ml**2)\n"
     ]
    },
    {
     "ename": "LinAlgError",
     "evalue": "SVD did not converge in Linear Least Squares",
     "output_type": "error",
     "traceback": [
      "\u001b[1;31m---------------------------------------------------------------------------\u001b[0m",
      "\u001b[1;31mLinAlgError\u001b[0m                               Traceback (most recent call last)",
      "\u001b[1;32m~\\AppData\\Local\\Temp\\ipykernel_17464\\2071773557.py\u001b[0m in \u001b[0;36m<module>\u001b[1;34m\u001b[0m\n\u001b[0;32m      5\u001b[0m \u001b[0mbeta_0\u001b[0m \u001b[1;33m=\u001b[0m \u001b[1;33m-\u001b[0m\u001b[1;36m1\u001b[0m\u001b[1;33m\u001b[0m\u001b[1;33m\u001b[0m\u001b[0m\n\u001b[0;32m      6\u001b[0m \u001b[1;33m\u001b[0m\u001b[0m\n\u001b[1;32m----> 7\u001b[1;33m \u001b[0mmlmc_price\u001b[0m \u001b[1;33m=\u001b[0m \u001b[0mmlmc\u001b[0m\u001b[1;33m(\u001b[0m\u001b[0mN0\u001b[0m\u001b[1;33m,\u001b[0m \u001b[0meps\u001b[0m\u001b[1;33m,\u001b[0m \u001b[0mmlmc_l\u001b[0m\u001b[1;33m,\u001b[0m \u001b[0malpha_0\u001b[0m\u001b[1;33m,\u001b[0m \u001b[0mbeta_0\u001b[0m\u001b[1;33m,\u001b[0m \u001b[0mgamma\u001b[0m\u001b[1;33m)\u001b[0m\u001b[1;33m\u001b[0m\u001b[1;33m\u001b[0m\u001b[0m\n\u001b[0m",
      "\u001b[1;32m~\\AppData\\Local\\Temp\\ipykernel_17464\\1224474138.py\u001b[0m in \u001b[0;36mmlmc\u001b[1;34m(N0, eps, mlmc_l, alpha_0, beta_0, gamma)\u001b[0m\n\u001b[0;32m     21\u001b[0m             \u001b[1;31m# Compute alpha using a log-log linear fit\u001b[0m\u001b[1;33m\u001b[0m\u001b[1;33m\u001b[0m\u001b[0m\n\u001b[0;32m     22\u001b[0m             \u001b[0midx\u001b[0m \u001b[1;33m=\u001b[0m \u001b[0mnp\u001b[0m\u001b[1;33m.\u001b[0m\u001b[0marange\u001b[0m\u001b[1;33m(\u001b[0m\u001b[1;36m1\u001b[0m\u001b[1;33m,\u001b[0m \u001b[0mL\u001b[0m \u001b[1;33m+\u001b[0m \u001b[1;36m1\u001b[0m\u001b[1;33m)\u001b[0m\u001b[1;33m\u001b[0m\u001b[1;33m\u001b[0m\u001b[0m\n\u001b[1;32m---> 23\u001b[1;33m             \u001b[0mslope\u001b[0m\u001b[1;33m,\u001b[0m \u001b[0mintercept\u001b[0m \u001b[1;33m=\u001b[0m \u001b[0mnp\u001b[0m\u001b[1;33m.\u001b[0m\u001b[0mpolyfit\u001b[0m\u001b[1;33m(\u001b[0m\u001b[0mnp\u001b[0m\u001b[1;33m.\u001b[0m\u001b[0mlog\u001b[0m\u001b[1;33m(\u001b[0m\u001b[0midx\u001b[0m\u001b[1;33m)\u001b[0m\u001b[1;33m,\u001b[0m \u001b[0mnp\u001b[0m\u001b[1;33m.\u001b[0m\u001b[0mlog\u001b[0m\u001b[1;33m(\u001b[0m\u001b[0mml\u001b[0m\u001b[1;33m[\u001b[0m\u001b[1;36m1\u001b[0m\u001b[1;33m:\u001b[0m\u001b[1;33m]\u001b[0m\u001b[1;33m)\u001b[0m\u001b[1;33m,\u001b[0m \u001b[1;36m1\u001b[0m\u001b[1;33m)\u001b[0m\u001b[1;33m\u001b[0m\u001b[1;33m\u001b[0m\u001b[0m\n\u001b[0m\u001b[0;32m     24\u001b[0m             \u001b[0malpha\u001b[0m \u001b[1;33m=\u001b[0m \u001b[0mmax\u001b[0m\u001b[1;33m(\u001b[0m\u001b[1;36m0.5\u001b[0m\u001b[1;33m,\u001b[0m \u001b[1;33m-\u001b[0m\u001b[0mslope\u001b[0m\u001b[1;33m)\u001b[0m\u001b[1;33m\u001b[0m\u001b[1;33m\u001b[0m\u001b[0m\n\u001b[0;32m     25\u001b[0m \u001b[1;33m\u001b[0m\u001b[0m\n",
      "\u001b[1;32m<__array_function__ internals>\u001b[0m in \u001b[0;36mpolyfit\u001b[1;34m(*args, **kwargs)\u001b[0m\n",
      "\u001b[1;32m~\\anaconda3\\lib\\site-packages\\numpy\\lib\\polynomial.py\u001b[0m in \u001b[0;36mpolyfit\u001b[1;34m(x, y, deg, rcond, full, w, cov)\u001b[0m\n\u001b[0;32m    658\u001b[0m     \u001b[0mscale\u001b[0m \u001b[1;33m=\u001b[0m \u001b[0mNX\u001b[0m\u001b[1;33m.\u001b[0m\u001b[0msqrt\u001b[0m\u001b[1;33m(\u001b[0m\u001b[1;33m(\u001b[0m\u001b[0mlhs\u001b[0m\u001b[1;33m*\u001b[0m\u001b[0mlhs\u001b[0m\u001b[1;33m)\u001b[0m\u001b[1;33m.\u001b[0m\u001b[0msum\u001b[0m\u001b[1;33m(\u001b[0m\u001b[0maxis\u001b[0m\u001b[1;33m=\u001b[0m\u001b[1;36m0\u001b[0m\u001b[1;33m)\u001b[0m\u001b[1;33m)\u001b[0m\u001b[1;33m\u001b[0m\u001b[1;33m\u001b[0m\u001b[0m\n\u001b[0;32m    659\u001b[0m     \u001b[0mlhs\u001b[0m \u001b[1;33m/=\u001b[0m \u001b[0mscale\u001b[0m\u001b[1;33m\u001b[0m\u001b[1;33m\u001b[0m\u001b[0m\n\u001b[1;32m--> 660\u001b[1;33m     \u001b[0mc\u001b[0m\u001b[1;33m,\u001b[0m \u001b[0mresids\u001b[0m\u001b[1;33m,\u001b[0m \u001b[0mrank\u001b[0m\u001b[1;33m,\u001b[0m \u001b[0ms\u001b[0m \u001b[1;33m=\u001b[0m \u001b[0mlstsq\u001b[0m\u001b[1;33m(\u001b[0m\u001b[0mlhs\u001b[0m\u001b[1;33m,\u001b[0m \u001b[0mrhs\u001b[0m\u001b[1;33m,\u001b[0m \u001b[0mrcond\u001b[0m\u001b[1;33m)\u001b[0m\u001b[1;33m\u001b[0m\u001b[1;33m\u001b[0m\u001b[0m\n\u001b[0m\u001b[0;32m    661\u001b[0m     \u001b[0mc\u001b[0m \u001b[1;33m=\u001b[0m \u001b[1;33m(\u001b[0m\u001b[0mc\u001b[0m\u001b[1;33m.\u001b[0m\u001b[0mT\u001b[0m\u001b[1;33m/\u001b[0m\u001b[0mscale\u001b[0m\u001b[1;33m)\u001b[0m\u001b[1;33m.\u001b[0m\u001b[0mT\u001b[0m  \u001b[1;31m# broadcast scale coefficients\u001b[0m\u001b[1;33m\u001b[0m\u001b[1;33m\u001b[0m\u001b[0m\n\u001b[0;32m    662\u001b[0m \u001b[1;33m\u001b[0m\u001b[0m\n",
      "\u001b[1;32m<__array_function__ internals>\u001b[0m in \u001b[0;36mlstsq\u001b[1;34m(*args, **kwargs)\u001b[0m\n",
      "\u001b[1;32m~\\anaconda3\\lib\\site-packages\\numpy\\linalg\\linalg.py\u001b[0m in \u001b[0;36mlstsq\u001b[1;34m(a, b, rcond)\u001b[0m\n\u001b[0;32m   2304\u001b[0m         \u001b[1;31m# lapack can't handle n_rhs = 0 - so allocate the array one larger in that axis\u001b[0m\u001b[1;33m\u001b[0m\u001b[1;33m\u001b[0m\u001b[0m\n\u001b[0;32m   2305\u001b[0m         \u001b[0mb\u001b[0m \u001b[1;33m=\u001b[0m \u001b[0mzeros\u001b[0m\u001b[1;33m(\u001b[0m\u001b[0mb\u001b[0m\u001b[1;33m.\u001b[0m\u001b[0mshape\u001b[0m\u001b[1;33m[\u001b[0m\u001b[1;33m:\u001b[0m\u001b[1;33m-\u001b[0m\u001b[1;36m2\u001b[0m\u001b[1;33m]\u001b[0m \u001b[1;33m+\u001b[0m \u001b[1;33m(\u001b[0m\u001b[0mm\u001b[0m\u001b[1;33m,\u001b[0m \u001b[0mn_rhs\u001b[0m \u001b[1;33m+\u001b[0m \u001b[1;36m1\u001b[0m\u001b[1;33m)\u001b[0m\u001b[1;33m,\u001b[0m \u001b[0mdtype\u001b[0m\u001b[1;33m=\u001b[0m\u001b[0mb\u001b[0m\u001b[1;33m.\u001b[0m\u001b[0mdtype\u001b[0m\u001b[1;33m)\u001b[0m\u001b[1;33m\u001b[0m\u001b[1;33m\u001b[0m\u001b[0m\n\u001b[1;32m-> 2306\u001b[1;33m     \u001b[0mx\u001b[0m\u001b[1;33m,\u001b[0m \u001b[0mresids\u001b[0m\u001b[1;33m,\u001b[0m \u001b[0mrank\u001b[0m\u001b[1;33m,\u001b[0m \u001b[0ms\u001b[0m \u001b[1;33m=\u001b[0m \u001b[0mgufunc\u001b[0m\u001b[1;33m(\u001b[0m\u001b[0ma\u001b[0m\u001b[1;33m,\u001b[0m \u001b[0mb\u001b[0m\u001b[1;33m,\u001b[0m \u001b[0mrcond\u001b[0m\u001b[1;33m,\u001b[0m \u001b[0msignature\u001b[0m\u001b[1;33m=\u001b[0m\u001b[0msignature\u001b[0m\u001b[1;33m,\u001b[0m \u001b[0mextobj\u001b[0m\u001b[1;33m=\u001b[0m\u001b[0mextobj\u001b[0m\u001b[1;33m)\u001b[0m\u001b[1;33m\u001b[0m\u001b[1;33m\u001b[0m\u001b[0m\n\u001b[0m\u001b[0;32m   2307\u001b[0m     \u001b[1;32mif\u001b[0m \u001b[0mm\u001b[0m \u001b[1;33m==\u001b[0m \u001b[1;36m0\u001b[0m\u001b[1;33m:\u001b[0m\u001b[1;33m\u001b[0m\u001b[1;33m\u001b[0m\u001b[0m\n\u001b[0;32m   2308\u001b[0m         \u001b[0mx\u001b[0m\u001b[1;33m[\u001b[0m\u001b[1;33m...\u001b[0m\u001b[1;33m]\u001b[0m \u001b[1;33m=\u001b[0m \u001b[1;36m0\u001b[0m\u001b[1;33m\u001b[0m\u001b[1;33m\u001b[0m\u001b[0m\n",
      "\u001b[1;32m~\\anaconda3\\lib\\site-packages\\numpy\\linalg\\linalg.py\u001b[0m in \u001b[0;36m_raise_linalgerror_lstsq\u001b[1;34m(err, flag)\u001b[0m\n\u001b[0;32m     98\u001b[0m \u001b[1;33m\u001b[0m\u001b[0m\n\u001b[0;32m     99\u001b[0m \u001b[1;32mdef\u001b[0m \u001b[0m_raise_linalgerror_lstsq\u001b[0m\u001b[1;33m(\u001b[0m\u001b[0merr\u001b[0m\u001b[1;33m,\u001b[0m \u001b[0mflag\u001b[0m\u001b[1;33m)\u001b[0m\u001b[1;33m:\u001b[0m\u001b[1;33m\u001b[0m\u001b[1;33m\u001b[0m\u001b[0m\n\u001b[1;32m--> 100\u001b[1;33m     \u001b[1;32mraise\u001b[0m \u001b[0mLinAlgError\u001b[0m\u001b[1;33m(\u001b[0m\u001b[1;34m\"SVD did not converge in Linear Least Squares\"\u001b[0m\u001b[1;33m)\u001b[0m\u001b[1;33m\u001b[0m\u001b[1;33m\u001b[0m\u001b[0m\n\u001b[0m\u001b[0;32m    101\u001b[0m \u001b[1;33m\u001b[0m\u001b[0m\n\u001b[0;32m    102\u001b[0m \u001b[1;32mdef\u001b[0m \u001b[0mget_linalg_error_extobj\u001b[0m\u001b[1;33m(\u001b[0m\u001b[0mcallback\u001b[0m\u001b[1;33m)\u001b[0m\u001b[1;33m:\u001b[0m\u001b[1;33m\u001b[0m\u001b[1;33m\u001b[0m\u001b[0m\n",
      "\u001b[1;31mLinAlgError\u001b[0m: SVD did not converge in Linear Least Squares"
     ]
    }
   ],
   "source": [
    "N0 = 1e04\n",
    "eps = 1e-06\n",
    "gamma = 1\n",
    "alpha_0 = -1\n",
    "beta_0 = -1\n",
    "\n",
    "mlmc_price = mlmc(N0, eps, mlmc_l, alpha_0, beta_0, gamma)"
   ]
  },
  {
   "cell_type": "code",
   "execution_count": null,
   "id": "7b73111d",
   "metadata": {},
   "outputs": [],
   "source": []
  },
  {
   "cell_type": "code",
   "execution_count": null,
   "id": "64b6244b",
   "metadata": {},
   "outputs": [],
   "source": []
  }
 ],
 "metadata": {
  "kernelspec": {
   "display_name": "Python 3 (ipykernel)",
   "language": "python",
   "name": "python3"
  },
  "language_info": {
   "codemirror_mode": {
    "name": "ipython",
    "version": 3
   },
   "file_extension": ".py",
   "mimetype": "text/x-python",
   "name": "python",
   "nbconvert_exporter": "python",
   "pygments_lexer": "ipython3",
   "version": "3.9.13"
  }
 },
 "nbformat": 4,
 "nbformat_minor": 5
}
